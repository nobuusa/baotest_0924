{
 "cells": [
  {
   "cell_type": "code",
   "execution_count": 1,
   "id": "funky-harmony",
   "metadata": {},
   "outputs": [],
   "source": [
    "output_path = 'routes/data_v3.json'\n",
    "input_path = 'routes/data_v2.json'\n",
    "import json \n",
    "data = json.load(open(input_path))"
   ]
  },
  {
   "cell_type": "code",
   "execution_count": 4,
   "id": "reserved-cologne",
   "metadata": {},
   "outputs": [],
   "source": [
    "for i in range(len(data)):\n",
    "    data[i]['q_id'] = i"
   ]
  },
  {
   "cell_type": "code",
   "execution_count": 7,
   "id": "aware-entry",
   "metadata": {},
   "outputs": [],
   "source": [
    "json.dump(data, open(output_path, 'w'))"
   ]
  },
  {
   "cell_type": "code",
   "execution_count": null,
   "id": "subject-veteran",
   "metadata": {},
   "outputs": [],
   "source": []
  }
 ],
 "metadata": {
  "kernelspec": {
   "display_name": "Python 3",
   "language": "python",
   "name": "python3"
  },
  "language_info": {
   "codemirror_mode": {
    "name": "ipython",
    "version": 3
   },
   "file_extension": ".py",
   "mimetype": "text/x-python",
   "name": "python",
   "nbconvert_exporter": "python",
   "pygments_lexer": "ipython3",
   "version": "3.8.2"
  }
 },
 "nbformat": 4,
 "nbformat_minor": 5
}
